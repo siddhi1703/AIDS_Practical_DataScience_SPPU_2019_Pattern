{
 "cells": [
  {
   "cell_type": "markdown",
   "id": "8c26e0e0",
   "metadata": {},
   "source": [
    "### Name : Siddhi Sandip Kakani\n",
    "### Roll no:2337053\n",
    "### Batch no: C\n",
    "### Title : Text Analytics\n",
    "1. Extract Sample document and apply following document preprocessing methods: \n",
    "Tokenization, POS Tagging, stop words removal, Stemming and Lemmatization.\n",
    "2. Create representation of documents by calculating Term Frequency and Inverse \n",
    "DocumentFrequency"
   ]
  },
  {
   "cell_type": "code",
   "execution_count": 2,
   "id": "0e6e1c61",
   "metadata": {},
   "outputs": [],
   "source": [
    "#nltk(Natural Language Toolkit) is library used for text classification\n",
    "import nltk"
   ]
  },
  {
   "cell_type": "code",
   "execution_count": 3,
   "id": "c73a6399",
   "metadata": {},
   "outputs": [],
   "source": [
    "text =\"Narendra Modi is the Prime Minister of India, leading the country since 2014. He's known for his rise from humble beginnings to the top job, starting as a tea-seller. Before becoming PM, he was Chief Minister of Gujarat, focusing on economic growth. As Prime Minister, he's implemented big changes like the Goods and Services Tax and pushed for digitalization and renewable energy. His leadership style and policies, especially those related to religion and social issues, have sparked both praise and criticism. He's a central figure in Indian politics, shaping the country's direction and sparking passionate debate.\""
   ]
  },
  {
   "cell_type": "code",
   "execution_count": 4,
   "id": "93ae36e7",
   "metadata": {
    "scrolled": true
   },
   "outputs": [
    {
     "data": {
      "text/plain": [
       "\"narendra modi is the prime minister of india, leading the country since 2014. he's known for his rise from humble beginnings to the top job, starting as a tea-seller. before becoming pm, he was chief minister of gujarat, focusing on economic growth. as prime minister, he's implemented big changes like the goods and services tax and pushed for digitalization and renewable energy. his leadership style and policies, especially those related to religion and social issues, have sparked both praise and criticism. he's a central figure in indian politics, shaping the country's direction and sparking passionate debate.\""
      ]
     },
     "execution_count": 4,
     "metadata": {},
     "output_type": "execute_result"
    }
   ],
   "source": [
    "#convert text to lower \n",
    "text=text.lower()\n",
    "text"
   ]
  },
  {
   "cell_type": "code",
   "execution_count": 5,
   "id": "7934b403",
   "metadata": {},
   "outputs": [
    {
     "name": "stdout",
     "output_type": "stream",
     "text": [
      "['narendra', 'modi', 'is', 'the', 'prime', 'minister', 'of', 'india', ',', 'leading', 'the', 'country', 'since', '2014.', 'he', \"'s\", 'known', 'for', 'his', 'rise', 'from', 'humble', 'beginnings', 'to', 'the', 'top', 'job', ',', 'starting', 'as', 'a', 'tea-seller', '.', 'before', 'becoming', 'pm', ',', 'he', 'was', 'chief', 'minister', 'of', 'gujarat', ',', 'focusing', 'on', 'economic', 'growth', '.', 'as', 'prime', 'minister', ',', 'he', \"'s\", 'implemented', 'big', 'changes', 'like', 'the', 'goods', 'and', 'services', 'tax', 'and', 'pushed', 'for', 'digitalization', 'and', 'renewable', 'energy', '.', 'his', 'leadership', 'style', 'and', 'policies', ',', 'especially', 'those', 'related', 'to', 'religion', 'and', 'social', 'issues', ',', 'have', 'sparked', 'both', 'praise', 'and', 'criticism', '.', 'he', \"'s\", 'a', 'central', 'figure', 'in', 'indian', 'politics', ',', 'shaping', 'the', 'country', \"'s\", 'direction', 'and', 'sparking', 'passionate', 'debate', '.']\n"
     ]
    }
   ],
   "source": [
    "#word tokenize:breaking down piece of text into words or token\n",
    "word_tokens = nltk.word_tokenize(text)\n",
    "print(word_tokens)\n"
   ]
  },
  {
   "cell_type": "code",
   "execution_count": 6,
   "id": "1e28cb23",
   "metadata": {},
   "outputs": [
    {
     "name": "stdout",
     "output_type": "stream",
     "text": [
      "[\"narendra modi is the prime minister of india, leading the country since 2014. he's known for his rise from humble beginnings to the top job, starting as a tea-seller.\", 'before becoming pm, he was chief minister of gujarat, focusing on economic growth.', \"as prime minister, he's implemented big changes like the goods and services tax and pushed for digitalization and renewable energy.\", 'his leadership style and policies, especially those related to religion and social issues, have sparked both praise and criticism.', \"he's a central figure in indian politics, shaping the country's direction and sparking passionate debate.\"]\n"
     ]
    }
   ],
   "source": [
    "#sent tokenize:breaking down piece of text into sentences\n",
    "sent_token = nltk.sent_tokenize(text)\n",
    "print(sent_token)\n"
   ]
  },
  {
   "cell_type": "code",
   "execution_count": 7,
   "id": "a236d64f",
   "metadata": {},
   "outputs": [
    {
     "data": {
      "text/plain": [
       "['i',\n",
       " 'me',\n",
       " 'my',\n",
       " 'myself',\n",
       " 'we',\n",
       " 'our',\n",
       " 'ours',\n",
       " 'ourselves',\n",
       " 'you',\n",
       " \"you're\",\n",
       " \"you've\",\n",
       " \"you'll\",\n",
       " \"you'd\",\n",
       " 'your',\n",
       " 'yours',\n",
       " 'yourself',\n",
       " 'yourselves',\n",
       " 'he',\n",
       " 'him',\n",
       " 'his',\n",
       " 'himself',\n",
       " 'she',\n",
       " \"she's\",\n",
       " 'her',\n",
       " 'hers',\n",
       " 'herself',\n",
       " 'it',\n",
       " \"it's\",\n",
       " 'its',\n",
       " 'itself',\n",
       " 'they',\n",
       " 'them',\n",
       " 'their',\n",
       " 'theirs',\n",
       " 'themselves',\n",
       " 'what',\n",
       " 'which',\n",
       " 'who',\n",
       " 'whom',\n",
       " 'this',\n",
       " 'that',\n",
       " \"that'll\",\n",
       " 'these',\n",
       " 'those',\n",
       " 'am',\n",
       " 'is',\n",
       " 'are',\n",
       " 'was',\n",
       " 'were',\n",
       " 'be',\n",
       " 'been',\n",
       " 'being',\n",
       " 'have',\n",
       " 'has',\n",
       " 'had',\n",
       " 'having',\n",
       " 'do',\n",
       " 'does',\n",
       " 'did',\n",
       " 'doing',\n",
       " 'a',\n",
       " 'an',\n",
       " 'the',\n",
       " 'and',\n",
       " 'but',\n",
       " 'if',\n",
       " 'or',\n",
       " 'because',\n",
       " 'as',\n",
       " 'until',\n",
       " 'while',\n",
       " 'of',\n",
       " 'at',\n",
       " 'by',\n",
       " 'for',\n",
       " 'with',\n",
       " 'about',\n",
       " 'against',\n",
       " 'between',\n",
       " 'into',\n",
       " 'through',\n",
       " 'during',\n",
       " 'before',\n",
       " 'after',\n",
       " 'above',\n",
       " 'below',\n",
       " 'to',\n",
       " 'from',\n",
       " 'up',\n",
       " 'down',\n",
       " 'in',\n",
       " 'out',\n",
       " 'on',\n",
       " 'off',\n",
       " 'over',\n",
       " 'under',\n",
       " 'again',\n",
       " 'further',\n",
       " 'then',\n",
       " 'once',\n",
       " 'here',\n",
       " 'there',\n",
       " 'when',\n",
       " 'where',\n",
       " 'why',\n",
       " 'how',\n",
       " 'all',\n",
       " 'any',\n",
       " 'both',\n",
       " 'each',\n",
       " 'few',\n",
       " 'more',\n",
       " 'most',\n",
       " 'other',\n",
       " 'some',\n",
       " 'such',\n",
       " 'no',\n",
       " 'nor',\n",
       " 'not',\n",
       " 'only',\n",
       " 'own',\n",
       " 'same',\n",
       " 'so',\n",
       " 'than',\n",
       " 'too',\n",
       " 'very',\n",
       " 's',\n",
       " 't',\n",
       " 'can',\n",
       " 'will',\n",
       " 'just',\n",
       " 'don',\n",
       " \"don't\",\n",
       " 'should',\n",
       " \"should've\",\n",
       " 'now',\n",
       " 'd',\n",
       " 'll',\n",
       " 'm',\n",
       " 'o',\n",
       " 're',\n",
       " 've',\n",
       " 'y',\n",
       " 'ain',\n",
       " 'aren',\n",
       " \"aren't\",\n",
       " 'couldn',\n",
       " \"couldn't\",\n",
       " 'didn',\n",
       " \"didn't\",\n",
       " 'doesn',\n",
       " \"doesn't\",\n",
       " 'hadn',\n",
       " \"hadn't\",\n",
       " 'hasn',\n",
       " \"hasn't\",\n",
       " 'haven',\n",
       " \"haven't\",\n",
       " 'isn',\n",
       " \"isn't\",\n",
       " 'ma',\n",
       " 'mightn',\n",
       " \"mightn't\",\n",
       " 'mustn',\n",
       " \"mustn't\",\n",
       " 'needn',\n",
       " \"needn't\",\n",
       " 'shan',\n",
       " \"shan't\",\n",
       " 'shouldn',\n",
       " \"shouldn't\",\n",
       " 'wasn',\n",
       " \"wasn't\",\n",
       " 'weren',\n",
       " \"weren't\",\n",
       " 'won',\n",
       " \"won't\",\n",
       " 'wouldn',\n",
       " \"wouldn't\"]"
      ]
     },
     "execution_count": 7,
     "metadata": {},
     "output_type": "execute_result"
    }
   ],
   "source": [
    "#stopword \n",
    "#stop words in English are “a,” “the,” “is,” “are,” etc.from nltk.corpus import stopwords\n",
    "\n",
    "from nltk.corpus import stopwords\n",
    "stopword = stopwords.words(\"english\")\n",
    "stopword"
   ]
  },
  {
   "cell_type": "code",
   "execution_count": 8,
   "id": "bb6a900a",
   "metadata": {},
   "outputs": [
    {
     "name": "stdout",
     "output_type": "stream",
     "text": [
      "['narendra', 'modi', 'prime', 'minister', 'india', ',', 'leading', 'country', 'since', '2014.', \"'s\", 'known', 'rise', 'humble', 'beginnings', 'top', 'job', ',', 'starting', 'tea-seller', '.', 'becoming', 'pm', ',', 'chief', 'minister', 'gujarat', ',', 'focusing', 'economic', 'growth', '.', 'prime', 'minister', ',', \"'s\", 'implemented', 'big', 'changes', 'like', 'goods', 'services', 'tax', 'pushed', 'digitalization', 'renewable', 'energy', '.', 'leadership', 'style', 'policies', ',', 'especially', 'related', 'religion', 'social', 'issues', ',', 'sparked', 'praise', 'criticism', '.', \"'s\", 'central', 'figure', 'indian', 'politics', ',', 'shaping', 'country', \"'s\", 'direction', 'sparking', 'passionate', 'debate', '.']\n"
     ]
    }
   ],
   "source": [
    "\n",
    "# stop words removal\n",
    "removing_stopwords = [word for word in word_tokens \n",
    "                      if word not in stopword]\n",
    "print(removing_stopwords)\n"
   ]
  },
  {
   "cell_type": "code",
   "execution_count": 9,
   "id": "ebc55afd",
   "metadata": {},
   "outputs": [
    {
     "name": "stdout",
     "output_type": "stream",
     "text": [
      "['narendra', 'modi', 'prime', 'minister', 'india', ',', 'leading', 'country', 'since', '2014.', \"'s\", 'known', 'rise', 'humble', 'beginning', 'top', 'job', ',', 'starting', 'tea-seller', '.', 'becoming', 'pm', ',', 'chief', 'minister', 'gujarat', ',', 'focusing', 'economic', 'growth', '.', 'prime', 'minister', ',', \"'s\", 'implemented', 'big', 'change', 'like', 'good', 'service', 'tax', 'pushed', 'digitalization', 'renewable', 'energy', '.', 'leadership', 'style', 'policy', ',', 'especially', 'related', 'religion', 'social', 'issue', ',', 'sparked', 'praise', 'criticism', '.', \"'s\", 'central', 'figure', 'indian', 'politics', ',', 'shaping', 'country', \"'s\", 'direction', 'sparking', 'passionate', 'debate', '.']\n"
     ]
    }
   ],
   "source": [
    "# lemmatize the text so as to get its root form\n",
    "from nltk.stem import WordNetLemmatizer\n",
    "wordnet_lemmatizer = WordNetLemmatizer()\n",
    "lemmatized_word = [wordnet_lemmatizer.lemmatize(word) \n",
    "                   for word in removing_stopwords]\n",
    "print(lemmatized_word)"
   ]
  },
  {
   "cell_type": "code",
   "execution_count": 9,
   "id": "d7eb55b2",
   "metadata": {
    "scrolled": true
   },
   "outputs": [
    {
     "name": "stdout",
     "output_type": "stream",
     "text": [
      "['narendra', 'modi', 'prime', 'minist', 'india', ',', 'lead', 'countri', 'sinc', '2014.', \"'s\", 'known', 'rise', 'humbl', 'begin', 'top', 'job', ',', 'start', 'tea-sel', '.', 'becom', 'pm', ',', 'chief', 'minist', 'gujarat', ',', 'focus', 'econom', 'growth', '.', 'prime', 'minist', ',', \"'s\", 'implement', 'big', 'chang', 'like', 'good', 'servic', 'tax', 'push', 'digit', 'renew', 'energi', '.', 'leadership', 'style', 'polici', ',', 'especi', 'relat', 'religion', 'social', 'issu', ',', 'spark', 'prais', 'critic', '.', \"'s\", 'central', 'figur', 'indian', 'polit', ',', 'shape', 'countri', \"'s\", 'direct', 'spark', 'passion', 'debat', '.']\n"
     ]
    }
   ],
   "source": [
    "# Stemming\n",
    "#Stemming is a process that stems or removes last few characters from a word\n",
    "\n",
    "from nltk.stem import PorterStemmer\n",
    "# Create a Porter Stemmer instance\n",
    "porter_stemmer = PorterStemmer()\n",
    "stemmed_words = [porter_stemmer.stem(word) for word in removing_stopwords]\n",
    "print(stemmed_words)"
   ]
  },
  {
   "cell_type": "code",
   "execution_count": 10,
   "id": "1f8977ed",
   "metadata": {},
   "outputs": [
    {
     "name": "stdout",
     "output_type": "stream",
     "text": [
      "['narendra', 'modi', 'prime', 'minister', 'india', 'leading', 'country', 'since', 'known', 'rise', 'humble', 'beginning', 'top', 'job', 'starting', 'becoming', 'pm', 'chief', 'minister', 'gujarat', 'focusing', 'economic', 'growth', 'prime', 'minister', 'implemented', 'big', 'change', 'like', 'good', 'service', 'tax', 'pushed', 'digitalization', 'renewable', 'energy', 'leadership', 'style', 'policy', 'especially', 'related', 'religion', 'social', 'issue', 'sparked', 'praise', 'criticism', 'central', 'figure', 'indian', 'politics', 'shaping', 'country', 'direction', 'sparking', 'passionate', 'debate']\n"
     ]
    }
   ],
   "source": [
    "# Remove punctuation marks\n",
    "words_without_punctuation = []\n",
    "for word in lemmatized_word:\n",
    "    if word.isalpha():\n",
    "        words_without_punctuation.append(word)\n",
    "print(words_without_punctuation)\n"
   ]
  },
  {
   "cell_type": "code",
   "execution_count": 11,
   "id": "1227e027",
   "metadata": {},
   "outputs": [
    {
     "name": "stderr",
     "output_type": "stream",
     "text": [
      "[nltk_data] Downloading package averaged_perceptron_tagger to\n",
      "[nltk_data]     C:\\Users\\Siddhi\\AppData\\Roaming\\nltk_data...\n",
      "[nltk_data]   Package averaged_perceptron_tagger is already up-to-\n",
      "[nltk_data]       date!\n"
     ]
    },
    {
     "data": {
      "text/plain": [
       "True"
      ]
     },
     "execution_count": 11,
     "metadata": {},
     "output_type": "execute_result"
    }
   ],
   "source": [
    "nltk.download('averaged_perceptron_tagger')"
   ]
  },
  {
   "cell_type": "code",
   "execution_count": 13,
   "id": "ca621064",
   "metadata": {},
   "outputs": [
    {
     "name": "stdout",
     "output_type": "stream",
     "text": [
      "[('narendra', 'JJ'), ('modi', 'NN'), ('prime', 'JJ'), ('minister', 'NN'), ('india', 'NN'), ('leading', 'VBG'), ('country', 'NN'), ('since', 'IN'), ('known', 'VBN'), ('rise', 'NN'), ('humble', 'JJ'), ('beginning', 'VBG'), ('top', 'JJ'), ('job', 'NN'), ('starting', 'VBG'), ('becoming', 'VBG'), ('pm', 'JJ'), ('chief', 'JJ'), ('minister', 'NN'), ('gujarat', 'NN'), ('focusing', 'VBG'), ('economic', 'JJ'), ('growth', 'NN'), ('prime', 'JJ'), ('minister', 'NN'), ('implemented', 'VBD'), ('big', 'JJ'), ('change', 'NN'), ('like', 'IN'), ('good', 'JJ'), ('service', 'NN'), ('tax', 'NN'), ('pushed', 'VBN'), ('digitalization', 'NN'), ('renewable', 'JJ'), ('energy', 'NN'), ('leadership', 'NN'), ('style', 'NN'), ('policy', 'NN'), ('especially', 'RB'), ('related', 'JJ'), ('religion', 'NN'), ('social', 'JJ'), ('issue', 'NN'), ('sparked', 'VBD'), ('praise', 'JJ'), ('criticism', 'NN'), ('central', 'JJ'), ('figure', 'NN'), ('indian', 'JJ'), ('politics', 'NNS'), ('shaping', 'VBG'), ('country', 'NN'), ('direction', 'NN'), ('sparking', 'VBG'), ('passionate', 'JJ'), ('debate', 'NN')]\n"
     ]
    }
   ],
   "source": [
    "#POS Tagging which is giving each word in a text a grammatical category, such as nouns, verbs, adjectives, and adverbs\n",
    "from nltk import pos_tag\n",
    "pos_tags = pos_tag(words_without_punctuation)\n",
    "print(pos_tags)"
   ]
  },
  {
   "cell_type": "code",
   "execution_count": 15,
   "id": "e2abe942",
   "metadata": {},
   "outputs": [],
   "source": [
    "#tfidf:Term Frequency Inverse Document Frequency\n",
    "#Term Frequency (TF): This measures the frequency of a term (word) in a document. \n",
    "#It reflects how often a term occurs within a document.\n",
    "#A higher frequency suggests that the term is more important in that document.\n",
    "#Inverse Document Frequency (IDF): This measures the importance of a term across a collection of documents.\n",
    "#It assigns higher weight to terms that are rare across the entire document set but common within a specific document.\n"
   ]
  },
  {
   "cell_type": "code",
   "execution_count": 16,
   "id": "fad9240a",
   "metadata": {},
   "outputs": [],
   "source": [
    "from sklearn.feature_extraction.text import TfidfVectorizer"
   ]
  },
  {
   "cell_type": "code",
   "execution_count": 24,
   "id": "37a2c6ae",
   "metadata": {},
   "outputs": [],
   "source": [
    "D1= \"Machine learning is the future.\"\n",
    "D2= \"The future is here with machine learning.\"\n",
    "D3= \"Deep learning is a subset of machine learning.\"\n",
    " # merge documents into a single corpus(group)\n",
    "corpus= [D1, D2, D3]   "
   ]
  },
  {
   "cell_type": "code",
   "execution_count": 25,
   "id": "23e5b926",
   "metadata": {},
   "outputs": [],
   "source": [
    "tfidf_vectorizer = TfidfVectorizer()"
   ]
  },
  {
   "cell_type": "code",
   "execution_count": 26,
   "id": "2c9bc05a",
   "metadata": {},
   "outputs": [],
   "source": [
    "tfidf_matrix = tfidf_vectorizer.fit_transform(corpus)"
   ]
  },
  {
   "cell_type": "code",
   "execution_count": 28,
   "id": "93a1d4f8",
   "metadata": {},
   "outputs": [
    {
     "name": "stdout",
     "output_type": "stream",
     "text": [
      "\n",
      "Word indexes:\n",
      "{'machine': 5, 'learning': 4, 'is': 3, 'the': 8, 'future': 1, 'here': 2, 'with': 9, 'deep': 0, 'subset': 7, 'of': 6}\n"
     ]
    }
   ],
   "source": [
    "# get indexing\n",
    "print('\\nWord indexes:')\n",
    "print(tfidf_vectorizer.vocabulary_)\n"
   ]
  },
  {
   "cell_type": "code",
   "execution_count": 29,
   "id": "84490abc",
   "metadata": {},
   "outputs": [
    {
     "name": "stdout",
     "output_type": "stream",
     "text": [
      "  (0, 1)\t0.512364445924804\n",
      "  (0, 8)\t0.512364445924804\n",
      "  (0, 3)\t0.3978966989493366\n",
      "  (0, 4)\t0.3978966989493366\n",
      "  (0, 5)\t0.3978966989493366\n",
      "  (1, 9)\t0.4877595527309446\n",
      "  (1, 2)\t0.4877595527309446\n",
      "  (1, 1)\t0.37095371207541605\n",
      "  (1, 8)\t0.37095371207541605\n",
      "  (1, 3)\t0.28807864923451976\n",
      "  (1, 4)\t0.28807864923451976\n",
      "  (1, 5)\t0.28807864923451976\n",
      "  (2, 6)\t0.44311319512575403\n",
      "  (2, 7)\t0.44311319512575403\n",
      "  (2, 0)\t0.44311319512575403\n",
      "  (2, 3)\t0.2617097912180386\n",
      "  (2, 4)\t0.5234195824360772\n",
      "  (2, 5)\t0.2617097912180386\n"
     ]
    }
   ],
   "source": [
    "print(tfidf_matrix)"
   ]
  }
 ],
 "metadata": {
  "kernelspec": {
   "display_name": "Python 3 (ipykernel)",
   "language": "python",
   "name": "python3"
  },
  "language_info": {
   "codemirror_mode": {
    "name": "ipython",
    "version": 3
   },
   "file_extension": ".py",
   "mimetype": "text/x-python",
   "name": "python",
   "nbconvert_exporter": "python",
   "pygments_lexer": "ipython3",
   "version": "3.10.3"
  }
 },
 "nbformat": 4,
 "nbformat_minor": 5
}
